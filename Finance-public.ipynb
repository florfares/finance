{
 "cells": [
  {
   "cell_type": "code",
   "execution_count": null,
   "id": "5f2b4104",
   "metadata": {},
   "outputs": [],
   "source": [
    "#libraries\n",
    "import pandas as pd\n",
    "import numpy as np\n",
    "import seaborn as sns\n",
    "# !pip install yfinance #if you don't already have it\n",
    "import yfinance as yf # Yahoo Finance\n",
    "import matplotlib.pyplot as plt\n",
    "\n",
    "#params for seaborn plots\n",
    "custom_params = {\"axes.spines.right\": False, \"axes.spines.top\": False}\n",
    "sns.set_theme(style=\"ticks\", rc=custom_params,palette=\"rocket\")"
   ]
  },
  {
   "cell_type": "markdown",
   "id": "bd6ba7ee",
   "metadata": {},
   "source": [
    "### FRED St Louis Effective Federal Fund Rate + Urban Inflation (Core)"
   ]
  },
  {
   "cell_type": "code",
   "execution_count": null,
   "id": "8b3a22d8",
   "metadata": {},
   "outputs": [],
   "source": [
    "# Macroeconomic data from FRED St. Louis\n",
    "# !pip install fredapi\n",
    "api='your key'\n",
    "from fredapi import Fred\n",
    "print(\"Disclaimer: This product uses the FRED® API but is not endorsed or certified by the Federal Reserve Bank of St. Louis.\")"
   ]
  },
  {
   "cell_type": "code",
   "execution_count": null,
   "id": "50e55818",
   "metadata": {},
   "outputs": [],
   "source": [
    "fred = Fred(api_key=api) #charge your key"
   ]
  },
  {
   "cell_type": "code",
   "execution_count": null,
   "id": "becebefb",
   "metadata": {
    "scrolled": true
   },
   "outputs": [],
   "source": [
    "#period span\n",
    "desde = '2019-01-01'\n",
    "hasta = '2023-12-31'\n",
    "\n",
    "#get data\n",
    "effr = fred.get_series('EFFR', observation_start=desde, observation_end=hasta) #get data\n",
    "effr=pd.DataFrame(data=effr, columns=['effr'], index=effr.index) #make dataframe\n",
    "effr\n",
    "\n",
    "core_cpi = fred.get_series('CPILFESL', observation_start=desde, observation_end=hasta)\n",
    "core_cpi=pd.DataFrame(data=core_cpi, columns=['cpi'], index=core_cpi.index)\n",
    "core_cpi['delta']=core_cpi.cpi.pct_change(periods=12)*100\n",
    "core_cpi"
   ]
  },
  {
   "cell_type": "markdown",
   "id": "1a49fb4e",
   "metadata": {},
   "source": [
    "### Plot inflation & interest rate  "
   ]
  },
  {
   "cell_type": "code",
   "execution_count": null,
   "id": "a3f75fb3",
   "metadata": {
    "scrolled": true
   },
   "outputs": [],
   "source": [
    "fig,ax=plt.subplots(nrows=1, ncols=2, figsize=(16,4), layout=\"tight\")\n",
    "\n",
    "sns.lineplot(data=core_cpi, x=core_cpi.index, y=core_cpi.delta, ax=ax[0])\n",
    "\n",
    "ax[0].axvspan('2023-01-01','2023-12-31',color = 'grey', alpha= 0.3,label = '2023') #shaded areas\n",
    "ax[0].axvspan('2022-01-01','2022-12-31',color = 'skyblue', alpha= 0.3,label = '2022') #shaded areas\n",
    "ax[0].legend()\n",
    "ax[0].set_title(\"Tasa de inflación (core) anual\")\n",
    "ax[0].set_ylabel(\"% anual\")\n",
    "\n",
    "\n",
    "sns.lineplot(data=base_tasa, x=base_tasa.index, y=base_tasa.effr, ax=ax[1])\n",
    "ax[1].axvspan('2023-01-01','2023-12-31',color = 'grey', alpha= 0.3,label = '2023')\n",
    "ax[1].axvspan('2022-01-01','2022-12-31',color = 'skyblue', alpha= 0.3,label = '2022')\n",
    "ax[1].legend()\n",
    "ax[1].set_title(\"Tasa de interés de referencia (FED)\")\n",
    "ax[1].set_ylabel(\"%\")\n",
    "\n",
    "fig.suptitle('Evolución de la tasa de interés de referencia (FED) y la tasa de inflación anual', fontsize=16)\n",
    "# plt.savefig(\"macro\")  #check your path when saving files, use os library\n",
    ";  #show no text from results\n"
   ]
  },
  {
   "cell_type": "markdown",
   "id": "348fdbe3",
   "metadata": {},
   "source": [
    "### Indexes"
   ]
  },
  {
   "cell_type": "code",
   "execution_count": null,
   "id": "74a2f62a",
   "metadata": {},
   "outputs": [],
   "source": [
    "desde = '2019-01-01'\n",
    "hasta = '2023-12-31'\n",
    "\n",
    "ticker=[\"SPY\",\"DIA\",\"QQQ\",\"XLE\",\"XLF\",\"BTC-USD\"]\n",
    "\n",
    "base=yf.download(tickers =ticker, start = desde, end = hasta)\n",
    "\n",
    "for tic in ticker:\n",
    "    base[('prom',tic)]=(base[('High',tic)]+base[('Low',tic)])/2\n",
    "\n",
    "base_prom=base.prom"
   ]
  },
  {
   "cell_type": "code",
   "execution_count": null,
   "id": "7e541888",
   "metadata": {},
   "outputs": [],
   "source": [
    "fig, ax= plt.subplots(ncols=3,nrows=2,figsize=(16,6), layout='tight')\n",
    "fig.suptitle('Evolución de las cotizaciones ETFs + BTC', fontsize=24)\n",
    "\n",
    "for i,tik in enumerate(ticker):\n",
    "    if i<3:\n",
    "        sns.lineplot(data=base_prom,x=base_prom.index, y=tik, ax=ax[0,i])\n",
    "        ax[0,i].axvspan('2023-01-01','2023-12-31',color = 'grey', alpha= 0.3,label = '2023')\n",
    "        ax[0,i].axvspan('2022-01-01','2022-12-31',color = 'skyblue', alpha= 0.3,label = '2022')\n",
    "        ax[0,i].legend()\n",
    "        ax[0,i].set_title(tik, fontsize=16)\n",
    "        ax[0,i].set_ylabel('')\n",
    "        ax[0,i].set_xlabel('')\n",
    "        ax[0,i].tick_params(axis='both', labelsize=10) \n",
    "        \n",
    "    else:\n",
    "        e=i-3\n",
    "        sns.lineplot(data=base_prom,x=base_prom.index, y=tik, ax=ax[1,e])\n",
    "        ax[1,e].axvspan('2023-01-01','2023-12-31',color = 'grey', alpha= 0.3,label = '2023')\n",
    "        ax[1,e].axvspan('2022-01-01','2022-12-31',color = 'skyblue', alpha= 0.3,label = '2022')\n",
    "        ax[1,e].legend()\n",
    "        ax[1,e].set_title(tik, fontsize=16)\n",
    "        ax[1,e].set_ylabel('')\n",
    "        ax[1,e].set_xlabel('')\n",
    "        ax[1,e].tick_params(axis='both', labelsize=10)         \n",
    "\n",
    "plt.savefig(\"index\")\n",
    ";"
   ]
  },
  {
   "cell_type": "markdown",
   "id": "790ea95e",
   "metadata": {},
   "source": [
    "### TECH"
   ]
  },
  {
   "cell_type": "code",
   "execution_count": null,
   "id": "298d32e7",
   "metadata": {},
   "outputs": [],
   "source": [
    "ticker=[\"AAPL\",\"MSFT\",\"NVDA\", \"AMD\",\"META\",\"GOOGL\",\"AMZN\",\"TSLA\"] #list of tickers as in YF\n",
    "\n",
    "base=yf.download(tickers =ticker, start = desde, end = hasta)"
   ]
  },
  {
   "cell_type": "code",
   "execution_count": null,
   "id": "2f8fc57f",
   "metadata": {},
   "outputs": [],
   "source": [
    "for tic in ticker:\n",
    "    base[('prom',tic)]=(base[('High',tic)]+base[('Low',tic)])/2  # I used the average price of each day\n",
    "\n",
    "base_prom=base.prom"
   ]
  },
  {
   "cell_type": "code",
   "execution_count": null,
   "id": "486cfb0d",
   "metadata": {},
   "outputs": [],
   "source": [
    "fig, ax= plt.subplots(ncols=4,nrows=2,figsize=(16,7), layout='tight')\n",
    "fig.suptitle('Evolución de las cotizaciones de las Big 7 + AMD', fontsize=24)\n",
    "\n",
    "for i,tik in enumerate(ticker):\n",
    "    if i>3:\n",
    "        e=i-4\n",
    "        sns.lineplot(data=base_prom,x=base_prom.index,y=tik, ax=ax[1,e])\n",
    "        ax[1,e].axvspan('2023-01-01','2023-12-31',color = 'grey', alpha= 0.3,label = '2023')\n",
    "        ax[1,e].axvspan('2022-01-01','2022-12-31',color = 'skyblue', alpha= 0.3,label = '2022')\n",
    "        ax[1,e].legend()\n",
    "        ax[1,e].set_title(tik, fontsize=16)\n",
    "        ax[1,e].set_ylabel('')\n",
    "        ax[1,e].set_xlabel('')\n",
    "        ax[1,e].tick_params(axis='both', labelsize=10)\n",
    "        \n",
    "        \n",
    "    else:\n",
    "        sns.lineplot(data=base_prom,x=base_prom.index,y=tik, ax=ax[0,i])\n",
    "        ax[0,i].axvspan('2023-01-01','2023-12-31',color = 'grey', alpha= 0.3,label = '2023')\n",
    "        ax[0,i].axvspan('2022-01-01','2022-12-31',color = 'skyblue', alpha= 0.3,label = '2022')\n",
    "        ax[0,i].legend()\n",
    "        ax[0,i].set_title(tik, fontsize=16)\n",
    "        ax[0,i].set_ylabel('')\n",
    "        ax[0,i].set_xlabel('')\n",
    "        ax[0,i].tick_params(axis='both', labelsize=10)  \n",
    "        \n",
    "plt.savefig(\"tech\")\n",
    ";\n"
   ]
  },
  {
   "cell_type": "markdown",
   "id": "028abdd6",
   "metadata": {},
   "source": [
    "### Financial sector"
   ]
  },
  {
   "cell_type": "code",
   "execution_count": null,
   "id": "417ff6bf",
   "metadata": {},
   "outputs": [],
   "source": [
    "ticker=[\"BAC\",\"V\",\"PYPL\",\"BRK-B\",\"WFC\",\"JPM\"]\n",
    "\n",
    "base=yf.download(tickers =ticker, start = desde, end = hasta, progress=False)\n",
    "\n",
    "for tic in ticker:\n",
    "    base[('prom',tic)]=(base[('High',tic)]+base[('Low',tic)])/2\n",
    "\n",
    "base_prom=base.prom"
   ]
  },
  {
   "cell_type": "code",
   "execution_count": null,
   "id": "43974bf0",
   "metadata": {
    "scrolled": true
   },
   "outputs": [],
   "source": [
    "fig, ax= plt.subplots(ncols=3,nrows=2,figsize=(16,7), layout='tight')\n",
    "fig.suptitle('Evolución de las cotizaciones de grandes empresas del sector financiero', fontsize=20)\n",
    "\n",
    "for i,tik in enumerate(ticker):\n",
    "    if i<3:\n",
    "        sns.lineplot(data=base_prom,x=base_prom.index, y=tik, ax=ax[0,i])\n",
    "        ax[0,i].axvspan('2023-01-01','2023-12-31',color = 'grey', alpha= 0.3,label = '2023')\n",
    "        ax[0,i].axvspan('2022-01-01','2022-12-31',color = 'skyblue', alpha= 0.3,label = '2022')\n",
    "        ax[0,i].legend()\n",
    "        ax[0,i].set_title(tik, fontsize=16)\n",
    "        ax[0,i].set_ylabel('')\n",
    "        ax[0,i].set_xlabel('')\n",
    "        ax[0,i].tick_params(axis='both', labelsize=10) \n",
    "        \n",
    "    else:\n",
    "        e=i-3\n",
    "        sns.lineplot(data=base_prom,x=base_prom.index, y=tik, ax=ax[1,e])\n",
    "        ax[1,e].axvspan('2023-01-01','2023-12-31',color = 'grey', alpha= 0.3,label = '2023')\n",
    "        ax[1,e].axvspan('2022-01-01','2022-12-31',color = 'skyblue', alpha= 0.3,label = '2022')\n",
    "        ax[1,e].legend()\n",
    "        ax[1,e].set_title(tik, fontsize=16)\n",
    "        ax[1,e].set_ylabel('')\n",
    "        ax[1,e].set_xlabel('')\n",
    "        ax[1,e].tick_params(axis='both', labelsize=10)  \n",
    "\n",
    "plt.savefig(\"bank\")\n",
    ";"
   ]
  },
  {
   "cell_type": "markdown",
   "id": "1064f158",
   "metadata": {},
   "source": [
    "### Entertaiment"
   ]
  },
  {
   "cell_type": "code",
   "execution_count": null,
   "id": "a75e2cfe",
   "metadata": {},
   "outputs": [],
   "source": [
    "ticker=[\"DIS\",\"NFLX\",\"CMCSA\"]\n",
    "\n",
    "base=yf.download(tickers =ticker, start = desde, end = hasta)\n",
    "\n",
    "for tic in ticker:\n",
    "    base[('prom',tic)]=(base[('High',tic)]+base[('Low',tic)])/2\n",
    "\n",
    "base_prom=base.prom"
   ]
  },
  {
   "cell_type": "code",
   "execution_count": null,
   "id": "af48a69d",
   "metadata": {},
   "outputs": [],
   "source": [
    "fig, ax= plt.subplots(ncols=3,nrows=1,figsize=(16,4), layout='tight')\n",
    "fig.suptitle('Evolución de las cotizaciones de grandes empresas del sector entretenimiento (Disney, Netflix, Comcast)',\n",
    "             fontsize=18)\n",
    "\n",
    "for i,tik in enumerate(ticker):\n",
    "        sns.lineplot(data=base_prom,x=base_prom.index, y=tik, ax=ax[i])\n",
    "        ax[i].axvspan('2023-01-01','2023-12-31',color = 'grey', alpha= 0.3,label = '2023')\n",
    "        ax[i].axvspan('2022-01-01','2022-12-31',color = 'skyblue', alpha= 0.3,label = '2022')\n",
    "        ax[i].legend()\n",
    "        ax[i].set_title(tik, fontsize=16)\n",
    "        ax[i].set_ylabel('')\n",
    "        ax[i].set_xlabel('')\n",
    "        ax[i].tick_params(axis='both', labelsize=10)   \n",
    "        \n",
    "plt.savefig(\"entertaiment\")\n",
    ";"
   ]
  },
  {
   "cell_type": "markdown",
   "id": "b2c9f107",
   "metadata": {},
   "source": [
    "### Massive consumption"
   ]
  },
  {
   "cell_type": "code",
   "execution_count": null,
   "id": "e4a4cd85",
   "metadata": {},
   "outputs": [],
   "source": [
    "ticker=[\"KO\",\"CL\",\"PG\",\"WMT\"]\n",
    "\n",
    "base=yf.download(tickers =ticker, start = desde, end = hasta)\n",
    "\n",
    "for tic in ticker:\n",
    "    base[('prom',tic)]=(base[('High',tic)]+base[('Low',tic)])/2\n",
    "\n",
    "base_prom=base.prom"
   ]
  },
  {
   "cell_type": "code",
   "execution_count": null,
   "id": "fc1fad1b",
   "metadata": {},
   "outputs": [],
   "source": [
    "fig, ax= plt.subplots(ncols=4,nrows=1,figsize=(16,4), layout='tight')\n",
    "fig.suptitle('Evolución de las cotizaciones de grandes empresas del sector consumo (Coca-Cola, Colgate, P&G, Wallmart)', fontsize=16)\n",
    "\n",
    "for i,tik in enumerate(ticker):\n",
    "        sns.lineplot(data=base_prom,x=base_prom.index, y=tik, ax=ax[i])\n",
    "        ax[i].axvspan('2023-01-01','2023-12-31',color = 'grey', alpha= 0.3,label = '2023')\n",
    "        ax[i].axvspan('2022-01-01','2022-12-31',color = 'skyblue', alpha= 0.3,label = '2022')\n",
    "        ax[i].legend()\n",
    "        ax[i].set_title(tik, fontsize=16)\n",
    "        ax[i].set_ylabel('')\n",
    "        ax[i].set_xlabel('')\n",
    "        ax[i].tick_params(axis='both', labelsize=10)  \n",
    "        \n",
    "plt.savefig(\"cons\")  \n",
    ";"
   ]
  }
 ],
 "metadata": {
  "kernelspec": {
   "display_name": "Python 3 (ipykernel)",
   "language": "python",
   "name": "python3"
  },
  "language_info": {
   "codemirror_mode": {
    "name": "ipython",
    "version": 3
   },
   "file_extension": ".py",
   "mimetype": "text/x-python",
   "name": "python",
   "nbconvert_exporter": "python",
   "pygments_lexer": "ipython3",
   "version": "3.11.5"
  }
 },
 "nbformat": 4,
 "nbformat_minor": 5
}
